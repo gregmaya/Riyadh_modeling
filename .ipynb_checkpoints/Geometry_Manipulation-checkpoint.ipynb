{
 "cells": [
  {
   "cell_type": "markdown",
   "metadata": {},
   "source": [
    "# Next steps"
   ]
  },
  {
   "cell_type": "markdown",
   "metadata": {},
   "source": [
    "## **Data exploration** consisted of the following steps:\n",
    "1. Re-assigning data to correct CRS --> check accuracy (Projected  CRS: **OK!**) \n",
    "1. Removing unnecessary data attributes\n",
    "1. Flattening all geometries\n",
    "1. Cheking for duplicate geometries (part 1)\n",
    "1. Separating network and campuses layer\n",
    "1. Assigning indexes (including spatial index)\n",
    "1. First attempt to axial segmentation --> **Failed !**"
   ]
  },
  {
   "cell_type": "markdown",
   "metadata": {},
   "source": [
    "Considering the above gave me a good sense of the state of the data, and given the amount of time it has taken in the past to proceed with the next steps, I can scketch a plan of what the next steps should be to perform the analysis."
   ]
  },
  {
   "cell_type": "code",
   "execution_count": null,
   "metadata": {},
   "outputs": [],
   "source": []
  }
 ],
 "metadata": {
  "kernelspec": {
   "display_name": "Python 3",
   "language": "python",
   "name": "python3"
  },
  "language_info": {
   "codemirror_mode": {
    "name": "ipython",
    "version": 3
   },
   "file_extension": ".py",
   "mimetype": "text/x-python",
   "name": "python",
   "nbconvert_exporter": "python",
   "pygments_lexer": "ipython3",
   "version": "3.7.7"
  }
 },
 "nbformat": 4,
 "nbformat_minor": 4
}
