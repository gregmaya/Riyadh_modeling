{
 "cells": [
  {
   "cell_type": "markdown",
   "metadata": {},
   "source": [
    "# Data exploration\n",
    "1. Full models:\n",
    "    - **Global** and **local** measures\n",
    "    - Topological attributes. (No. dead ends , average street lenght, average campus area/perimeter...)\n",
    "1. Selection of certain local areas - to discuss/agree with Mahdi.\n",
    "    - **Global** and **local** measures\n",
    "    - This could be created on the basis of: \n",
    "        - Surrounding/buffer areas from selected Campus categories\n",
    "        - Political breaks of the city - In which case we need to get such boundaries.\n",
    "1. Summarize information into tables\n",
    "1. Plot and visualize the correspondant/complementary maps.\n",
    "    - This will greatly differ depending on the number of them."
   ]
  },
  {
   "cell_type": "code",
   "execution_count": null,
   "metadata": {},
   "outputs": [],
   "source": []
  }
 ],
 "metadata": {
  "kernelspec": {
   "display_name": "Python 3",
   "language": "python",
   "name": "python3"
  },
  "language_info": {
   "codemirror_mode": {
    "name": "ipython",
    "version": 3
   },
   "file_extension": ".py",
   "mimetype": "text/x-python",
   "name": "python",
   "nbconvert_exporter": "python",
   "pygments_lexer": "ipython3",
   "version": "3.7.7"
  }
 },
 "nbformat": 4,
 "nbformat_minor": 4
}
